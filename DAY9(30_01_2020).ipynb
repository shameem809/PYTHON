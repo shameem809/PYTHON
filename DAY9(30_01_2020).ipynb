{
  "nbformat": 4,
  "nbformat_minor": 0,
  "metadata": {
    "colab": {
      "name": "DAY9(30-01-2020)",
      "provenance": [],
      "authorship_tag": "ABX9TyP9Q+XgxjO4oAhinU8oyMu/",
      "include_colab_link": true
    },
    "kernelspec": {
      "name": "python3",
      "display_name": "Python 3"
    }
  },
  "cells": [
    {
      "cell_type": "markdown",
      "metadata": {
        "id": "view-in-github",
        "colab_type": "text"
      },
      "source": [
        "<a href=\"https://colab.research.google.com/github/shameem809/PYTHON/blob/master/DAY9(30_01_2020).ipynb\" target=\"_parent\"><img src=\"https://colab.research.google.com/assets/colab-badge.svg\" alt=\"Open In Colab\"/></a>"
      ]
    },
    {
      "cell_type": "markdown",
      "metadata": {
        "id": "zkSgKoQj-JoC",
        "colab_type": "text"
      },
      "source": [
        "# MARKDOWN\n",
        "## MARKDOWN\n",
        "### MARKDOWN\n",
        "#### MARKDOWN\n",
        "##### MARKDOWN"
      ]
    },
    {
      "cell_type": "markdown",
      "metadata": {
        "id": "346ehsA6_B0K",
        "colab_type": "text"
      },
      "source": [
        "**POINTS**\n",
        "\n",
        "*POINTS*\n",
        "\n",
        "***POINTS***\n",
        "\n",
        "*points*"
      ]
    },
    {
      "cell_type": "markdown",
      "metadata": {
        "id": "dZi8qiwmBUXg",
        "colab_type": "text"
      },
      "source": [
        "***Adding links to markdown***\n",
        "\n",
        "[site](https://en.wikipedia.org/wiki/Jawaharlal_Nehru_Technological_University,_Hyderabad)"
      ]
    },
    {
      "cell_type": "markdown",
      "metadata": {
        "id": "Qbu5UkN3COwF",
        "colab_type": "text"
      },
      "source": [
        "### Inserting image\n",
        "![text](https://upload.wikimedia.org/wikipedia/en/a/a2/Jawaharlal_Nehru_Technological_University%2C_Hyderabad_cover.jpg)"
      ]
    },
    {
      "cell_type": "code",
      "metadata": {
        "id": "Td_HXGBoCsd1",
        "colab_type": "code",
        "colab": {
          "base_uri": "https://localhost:8080/",
          "height": 34
        },
        "outputId": "8f067804-792a-443e-b317-894c3df85c2b"
      },
      "source": [
        "print(\"hello world!\")"
      ],
      "execution_count": 1,
      "outputs": [
        {
          "output_type": "stream",
          "text": [
            "hello world!\n"
          ],
          "name": "stdout"
        }
      ]
    },
    {
      "cell_type": "code",
      "metadata": {
        "id": "Qlt9ee6aDt25",
        "colab_type": "code",
        "colab": {
          "base_uri": "https://localhost:8080/",
          "height": 34
        },
        "outputId": "503da82e-5291-430d-f0bc-d51b08d57328"
      },
      "source": [
        "print(\"hello , jntua\")"
      ],
      "execution_count": 3,
      "outputs": [
        {
          "output_type": "stream",
          "text": [
            "hello , jntua\n"
          ],
          "name": "stdout"
        }
      ]
    },
    {
      "cell_type": "code",
      "metadata": {
        "id": "6lo-imVgIm4M",
        "colab_type": "code",
        "colab": {
          "base_uri": "https://localhost:8080/",
          "height": 34
        },
        "outputId": "2952d5d6-425b-4f2d-f58f-f2f0bab10941"
      },
      "source": [
        "print(\"hello , jntua\",\"|||\" ,\"chemical\",\"|||\",\"cse\",\"|||\",\"mca\")"
      ],
      "execution_count": 4,
      "outputs": [
        {
          "output_type": "stream",
          "text": [
            "hello , jntua ||| chemical ||| cse ||| mca\n"
          ],
          "name": "stdout"
        }
      ]
    },
    {
      "cell_type": "markdown",
      "metadata": {
        "id": "QMsuseS1JUsF",
        "colab_type": "text"
      },
      "source": [
        "#Assignment\n"
      ]
    },
    {
      "cell_type": "code",
      "metadata": {
        "id": "WIXY6D32Je40",
        "colab_type": "code",
        "colab": {
          "base_uri": "https://localhost:8080/",
          "height": 68
        },
        "outputId": "8179d4bd-c6eb-4c9f-a728-2048cbb3bf45"
      },
      "source": [
        "n1 = 100 # single variable assignment\n",
        "print(n1)\n",
        "a = b = c =10 # multi variable assignment of same value\n",
        "print(a,b,c)\n",
        "a1,b1,c1 = 100,200,300 # multiple variable assignment with different values\n",
        "print(a1,b1,c1)"
      ],
      "execution_count": 11,
      "outputs": [
        {
          "output_type": "stream",
          "text": [
            "100\n",
            "10 10 10\n",
            "100 200 300\n"
          ],
          "name": "stdout"
        }
      ]
    },
    {
      "cell_type": "markdown",
      "metadata": {
        "id": "PwVZmI8rLAeN",
        "colab_type": "text"
      },
      "source": [
        "# Data Types And Conversions\n",
        "*int\n",
        "*float\n",
        "*string"
      ]
    },
    {
      "cell_type": "code",
      "metadata": {
        "id": "ZKM5Ja26LUEM",
        "colab_type": "code",
        "colab": {
          "base_uri": "https://localhost:8080/",
          "height": 34
        },
        "outputId": "add69d46-47e1-46f5-f2b0-3dc41e53ff10"
      },
      "source": [
        "a = 100\n",
        "s1 = 10.2\n",
        "s2 = \"python\"\n",
        "print(type(a),type(s1),type(s2))"
      ],
      "execution_count": 12,
      "outputs": [
        {
          "output_type": "stream",
          "text": [
            "<class 'int'> <class 'float'> <class 'str'>\n"
          ],
          "name": "stdout"
        }
      ]
    },
    {
      "cell_type": "code",
      "metadata": {
        "id": "QRYUz9g-L2ds",
        "colab_type": "code",
        "colab": {
          "base_uri": "https://localhost:8080/",
          "height": 68
        },
        "outputId": "92d4e514-2dec-406e-bcac-e60862d7fdc3"
      },
      "source": [
        "i = 100\n",
        "print(type(i))\n",
        "s1 = str(i)\n",
        "print(type(s1))\n",
        "f1 = float(i)\n",
        "print(type(f1))"
      ],
      "execution_count": 14,
      "outputs": [
        {
          "output_type": "stream",
          "text": [
            "<class 'int'>\n",
            "<class 'str'>\n",
            "<class 'float'>\n"
          ],
          "name": "stdout"
        }
      ]
    },
    {
      "cell_type": "code",
      "metadata": {
        "id": "uQPPY_5gMfWR",
        "colab_type": "code",
        "colab": {
          "base_uri": "https://localhost:8080/",
          "height": 34
        },
        "outputId": "74f79ef1-a8da-4a79-ce16-a9c73ebcfcd4"
      },
      "source": [
        "# length\n",
        "a = 1234567\n",
        "print(len(str(a)))"
      ],
      "execution_count": 16,
      "outputs": [
        {
          "output_type": "stream",
          "text": [
            "7\n"
          ],
          "name": "stdout"
        }
      ]
    },
    {
      "cell_type": "markdown",
      "metadata": {
        "id": "Mir3qk-dN9vq",
        "colab_type": "text"
      },
      "source": [
        "# Reading input from user---input function "
      ]
    },
    {
      "cell_type": "code",
      "metadata": {
        "id": "QvFzS4JkOZ4U",
        "colab_type": "code",
        "colab": {
          "base_uri": "https://localhost:8080/",
          "height": 68
        },
        "outputId": "844e0fa6-dd55-4aa8-80c4-165823f431d5"
      },
      "source": [
        "a = input(\"enter ur name\")\n",
        "print(a)\n",
        "print(type(a))"
      ],
      "execution_count": 18,
      "outputs": [
        {
          "output_type": "stream",
          "text": [
            "enter ur nameshaee\n",
            "shaee\n",
            "<class 'str'>\n"
          ],
          "name": "stdout"
        }
      ]
    },
    {
      "cell_type": "code",
      "metadata": {
        "id": "_atSoc9mPKjN",
        "colab_type": "code",
        "colab": {
          "base_uri": "https://localhost:8080/",
          "height": 68
        },
        "outputId": "1d3d7ca5-7574-4482-f745-902730c89e55"
      },
      "source": [
        "b = int(input(\"enter ur age : \"))\n",
        "print(b)\n",
        "print(type(b))"
      ],
      "execution_count": 19,
      "outputs": [
        {
          "output_type": "stream",
          "text": [
            "enter ur age : 19\n",
            "19\n",
            "<class 'int'>\n"
          ],
          "name": "stdout"
        }
      ]
    },
    {
      "cell_type": "markdown",
      "metadata": {
        "id": "EK6exJkDPlvE",
        "colab_type": "text"
      },
      "source": [
        "# Operators\n",
        "- Operator is a symbol used to perform a specific kind of operations"
      ]
    },
    {
      "cell_type": "markdown",
      "metadata": {
        "id": "G6R3xkxpP7NE",
        "colab_type": "text"
      },
      "source": [
        "# Arthimatic operators\n",
        "- -\n",
        "- +\n",
        "- *\n",
        "- %\n",
        "- //\n",
        "- /\n",
        "- **"
      ]
    },
    {
      "cell_type": "code",
      "metadata": {
        "id": "oHR5GFR9QNZd",
        "colab_type": "code",
        "colab": {
          "base_uri": "https://localhost:8080/",
          "height": 136
        },
        "outputId": "dd3088b0-d96b-47d1-cbad-2c871dc68e8b"
      },
      "source": [
        "a = 1234\n",
        "print(a+10)\n",
        "print(a-10)\n",
        "print(a*10)\n",
        "print(a/10)\n",
        "print(a%10)\n",
        "print(a//10)\n",
        "print(a**10)"
      ],
      "execution_count": 21,
      "outputs": [
        {
          "output_type": "stream",
          "text": [
            "1244\n",
            "1224\n",
            "12340\n",
            "123.4\n",
            "4\n",
            "123\n",
            "8187505353567209228244052427776\n"
          ],
          "name": "stdout"
        }
      ]
    },
    {
      "cell_type": "markdown",
      "metadata": {
        "id": "c_3eJkw2Sehe",
        "colab_type": "text"
      },
      "source": [
        "# Relational operator\n",
        "- =\n",
        "- ==\n",
        "- !=\n",
        "- <\n",
        "- > \n",
        "- <=\n",
        "- >="
      ]
    },
    {
      "cell_type": "code",
      "metadata": {
        "id": "J6_xFDSUS6ul",
        "colab_type": "code",
        "colab": {
          "base_uri": "https://localhost:8080/",
          "height": 34
        },
        "outputId": "92b0926a-0e73-45c2-9faa-ff82c6d219b3"
      },
      "source": [
        "x = 10\n",
        "a1 = x > 15\n",
        "print(a1)"
      ],
      "execution_count": 22,
      "outputs": [
        {
          "output_type": "stream",
          "text": [
            "False\n"
          ],
          "name": "stdout"
        }
      ]
    },
    {
      "cell_type": "code",
      "metadata": {
        "id": "kENKFjRpTKVj",
        "colab_type": "code",
        "colab": {
          "base_uri": "https://localhost:8080/",
          "height": 34
        },
        "outputId": "11ec03c1-310f-4414-9365-ef4e155503cd"
      },
      "source": [
        "x = 24\n",
        "a1 = x > 15\n",
        "print(a1)"
      ],
      "execution_count": 23,
      "outputs": [
        {
          "output_type": "stream",
          "text": [
            "True\n"
          ],
          "name": "stdout"
        }
      ]
    },
    {
      "cell_type": "markdown",
      "metadata": {
        "id": "foFtbQjmTdX0",
        "colab_type": "text"
      },
      "source": [
        "# Logical operators\n",
        "- and\n",
        "- or\n",
        "- not"
      ]
    },
    {
      "cell_type": "code",
      "metadata": {
        "id": "trZFv20pTvkN",
        "colab_type": "code",
        "colab": {
          "base_uri": "https://localhost:8080/",
          "height": 68
        },
        "outputId": "6dee0ae3-6d73-4afa-f252-74825fdd1174"
      },
      "source": [
        "i = 100\n",
        "a1 = (i>15) or (i>800)\n",
        "a2 = (i>15) and (i<800)\n",
        "i = not 100\n",
        "print(a1)\n",
        "print(a2)\n",
        "print(i)"
      ],
      "execution_count": 27,
      "outputs": [
        {
          "output_type": "stream",
          "text": [
            "True\n",
            "True\n",
            "False\n"
          ],
          "name": "stdout"
        }
      ]
    },
    {
      "cell_type": "markdown",
      "metadata": {
        "id": "_fbJIxpOVI1q",
        "colab_type": "text"
      },
      "source": [
        "# Control flow statements\n",
        "- conditional statements\n",
        "- looping statements"
      ]
    },
    {
      "cell_type": "markdown",
      "metadata": {
        "id": "Sr87nkRQVins",
        "colab_type": "text"
      },
      "source": [
        "# if - else statements\n",
        "## syntax\n",
        "# if Boolean_condition\n",
        "# else:\n",
        "# statements"
      ]
    },
    {
      "cell_type": "code",
      "metadata": {
        "id": "hmWPE_WGWDG_",
        "colab_type": "code",
        "colab": {
          "base_uri": "https://localhost:8080/",
          "height": 51
        },
        "outputId": "5a60a9c0-3c26-4ab2-b457-98c29c47c895"
      },
      "source": [
        "# to check given number is even or odd\n",
        "n = int(input(\"enter a number\"))\n",
        "if n%2==0:\n",
        "  print(n,\" is even number\")\n",
        "else:\n",
        "  print(n,\" is odd number\")"
      ],
      "execution_count": 30,
      "outputs": [
        {
          "output_type": "stream",
          "text": [
            "enter a number24\n",
            "24  is even number\n"
          ],
          "name": "stdout"
        }
      ]
    },
    {
      "cell_type": "code",
      "metadata": {
        "id": "rXRTV19LW3gW",
        "colab_type": "code",
        "colab": {
          "base_uri": "https://localhost:8080/",
          "height": 51
        },
        "outputId": "556b58c6-fc22-4005-bb3c-1c1b9334d6a4"
      },
      "source": [
        "# to check given number is perfectly multiple of 3 and 5\n",
        "n = int(input(\"enter a number\"))\n",
        "if n%3==0 and n%5==0:\n",
        "  print(n,\"perfect multiple\")\n",
        "else:\n",
        "  print(n,\"no perfect multiple\")"
      ],
      "execution_count": 39,
      "outputs": [
        {
          "output_type": "stream",
          "text": [
            "enter a number21\n",
            "21 no perfect multiple\n"
          ],
          "name": "stdout"
        }
      ]
    },
    {
      "cell_type": "code",
      "metadata": {
        "id": "waKvclPBYTHW",
        "colab_type": "code",
        "colab": {
          "base_uri": "https://localhost:8080/",
          "height": 51
        },
        "outputId": "8055a617-59e8-4008-f380-906f7408db23"
      },
      "source": [
        "# check given number is positive,negative,zero\n",
        "n = int(input(\"enter a number\"))\n",
        "if n>0:\n",
        " print(n,\"positive\")\n",
        "elif n<0:\n",
        "  print(n,\"negative\")\n",
        "else:\n",
        "  print(n,\"zero\")"
      ],
      "execution_count": 43,
      "outputs": [
        {
          "output_type": "stream",
          "text": [
            "enter a number0\n",
            "0 zero\n"
          ],
          "name": "stdout"
        }
      ]
    },
    {
      "cell_type": "code",
      "metadata": {
        "id": "C2X0Rxi-apno",
        "colab_type": "code",
        "colab": {
          "base_uri": "https://localhost:8080/",
          "height": 85
        },
        "outputId": "52c88826-2947-4127-bddb-87f0edfcaef3"
      },
      "source": [
        "# largest number of given 3 numbers\n",
        "x = int(input(\"enter x\"))\n",
        "y = int(input(\"enter y\"))\n",
        "z = int(input(\"enter z\"))\n",
        "if x>y and x>z:\n",
        "  print(x,\"greater\")\n",
        "elif y>z and y>x:\n",
        "  print(y,\"greater\")\n",
        "else:\n",
        "  print(z,\"greater\")\n",
        "\n",
        " "
      ],
      "execution_count": 44,
      "outputs": [
        {
          "output_type": "stream",
          "text": [
            "enter x10\n",
            "enter y20\n",
            "enter z30\n",
            "30 greater\n"
          ],
          "name": "stdout"
        }
      ]
    },
    {
      "cell_type": "code",
      "metadata": {
        "id": "DsoDeMILdzbh",
        "colab_type": "code",
        "colab": {
          "base_uri": "https://localhost:8080/",
          "height": 129
        },
        "outputId": "8650c53e-f412-4beb-8f22-fc5818f02c44"
      },
      "source": [
        "# leap year\n",
        "n = int(input(\"enter a year\"))\n",
        "if year%4 == 0 :\n",
        "  print(n,\"leap year\")\n",
        "elif year%400 == 0:\n",
        "  print(n,\"leap year\")\n",
        "else year%100 != 0:\n",
        "  print(n,\"not a leap year\")"
      ],
      "execution_count": 45,
      "outputs": [
        {
          "output_type": "error",
          "ename": "SyntaxError",
          "evalue": "ignored",
          "traceback": [
            "\u001b[0;36m  File \u001b[0;32m\"<ipython-input-45-153a89dbe979>\"\u001b[0;36m, line \u001b[0;32m6\u001b[0m\n\u001b[0;31m    else year%100!=0:\u001b[0m\n\u001b[0m            ^\u001b[0m\n\u001b[0;31mSyntaxError\u001b[0m\u001b[0;31m:\u001b[0m invalid syntax\n"
          ]
        }
      ]
    },
    {
      "cell_type": "code",
      "metadata": {
        "id": "SnelhL6TfpfM",
        "colab_type": "code",
        "colab": {}
      },
      "source": [
        ""
      ],
      "execution_count": 0,
      "outputs": []
    }
  ]
}