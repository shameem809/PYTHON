{
  "nbformat": 4,
  "nbformat_minor": 0,
  "metadata": {
    "colab": {
      "name": "DAY10(31-01-2020)",
      "provenance": [],
      "authorship_tag": "ABX9TyOBm+b2ZFv4WG/8tp+qrTAV",
      "include_colab_link": true
    },
    "kernelspec": {
      "name": "python3",
      "display_name": "Python 3"
    }
  },
  "cells": [
    {
      "cell_type": "markdown",
      "metadata": {
        "id": "view-in-github",
        "colab_type": "text"
      },
      "source": [
        "<a href=\"https://colab.research.google.com/github/shameem809/PYTHON/blob/master/DAY10(31_01_2020).ipynb\" target=\"_parent\"><img src=\"https://colab.research.google.com/assets/colab-badge.svg\" alt=\"Open In Colab\"/></a>"
      ]
    },
    {
      "cell_type": "markdown",
      "metadata": {
        "id": "9_SyEK4dx8Bk",
        "colab_type": "text"
      },
      "source": [
        "# LOOPS\n",
        "\n",
        "\n",
        "*   WHILE LOOP\n",
        "*   FOR LOOP\n",
        "\n"
      ]
    },
    {
      "cell_type": "code",
      "metadata": {
        "id": "mHdUodEbyIte",
        "colab_type": "code",
        "outputId": "1424b25b-b10e-4e5f-dc40-abc2cd6bf0ad",
        "colab": {
          "base_uri": "https://localhost:8080/",
          "height": 51
        }
      },
      "source": [
        "# print numbers from 1 to n\n",
        "# input 10\n",
        "# output 1 2 3 4 .....10\n",
        "n = int(input(\"enter a number :\"))\n",
        "i = 1\n",
        "while i <= n :\n",
        "  print(i, end = \"  \")\n",
        "  i = i+1"
      ],
      "execution_count": 0,
      "outputs": [
        {
          "output_type": "stream",
          "text": [
            "enter a number :10\n",
            "1  2  3  4  5  6  7  8  9  10  "
          ],
          "name": "stdout"
        }
      ]
    },
    {
      "cell_type": "code",
      "metadata": {
        "id": "e12DugKrzE8a",
        "colab_type": "code",
        "outputId": "ae916041-f30f-4e29-8abc-8ab590a78717",
        "colab": {
          "base_uri": "https://localhost:8080/",
          "height": 136
        }
      },
      "source": [
        "# print sum of even numbers\n",
        "# input:10\n",
        "#output:(2+4+6+8+10=30)\n",
        "n = int(input(\"enter a number :\"))\n",
        "i = 0\n",
        "sum = 0\n",
        "while i<=n: \n",
        "    sum = sum+i\n",
        "    i = i + 2\n",
        "    print(sum)"
      ],
      "execution_count": 0,
      "outputs": [
        {
          "output_type": "stream",
          "text": [
            "enter a number :10\n",
            "0\n",
            "2\n",
            "6\n",
            "12\n",
            "20\n",
            "30\n"
          ],
          "name": "stdout"
        }
      ]
    },
    {
      "cell_type": "code",
      "metadata": {
        "id": "AiPNVIzl1MF-",
        "colab_type": "code",
        "outputId": "d248a6a6-96da-46fe-a2e5-3c1e5da49034",
        "colab": {
          "base_uri": "https://localhost:8080/",
          "height": 85
        }
      },
      "source": [
        "# print palindrome number\n",
        "#input 123 \n",
        "#output 321\n",
        "n = int(input(\"enter a number :\"))\n",
        "rem = 0\n",
        "num = 0\n",
        "while n>0:\n",
        "  rem = n%10\n",
        "  num = num*10+rem\n",
        "  n = n//10\n",
        "  print(num)"
      ],
      "execution_count": 0,
      "outputs": [
        {
          "output_type": "stream",
          "text": [
            "enter a number :123\n",
            "3\n",
            "32\n",
            "321\n"
          ],
          "name": "stdout"
        }
      ]
    },
    {
      "cell_type": "markdown",
      "metadata": {
        "id": "_M1cqSzb9mg5",
        "colab_type": "text"
      },
      "source": [
        "# Functional programming\n",
        "- Simple\n",
        "- Easy to Understand\n",
        "- Better Reauseability\n",
        "- Lengthy program will be divided into sub programs\n",
        "\n",
        "\n",
        "\n"
      ]
    },
    {
      "cell_type": "code",
      "metadata": {
        "id": "KoyPlGAm-PLA",
        "colab_type": "code",
        "colab": {}
      },
      "source": [
        "def nameofthefunction(<parameter>):\n",
        "  statements\n",
        "  return"
      ],
      "execution_count": 0,
      "outputs": []
    },
    {
      "cell_type": "code",
      "metadata": {
        "id": "JI00FAE8-0sh",
        "colab_type": "code",
        "outputId": "84efb48d-4a48-4c8e-e5a0-e68b06b186a4",
        "colab": {
          "base_uri": "https://localhost:8080/",
          "height": 34
        }
      },
      "source": [
        "# print sum of even number\n",
        "# input:1234\n",
        "# output:(2+4)=6\n",
        "def sumofevendigits(n):\n",
        "    s = 0\n",
        "    while n!= 0:\n",
        "      r = n%10\n",
        "      if r%2==0:\n",
        "        s=s+r\n",
        "      n = n//10\n",
        "    return s\n",
        "sumofevendigits(1234)"
      ],
      "execution_count": 0,
      "outputs": [
        {
          "output_type": "execute_result",
          "data": {
            "text/plain": [
              "6"
            ]
          },
          "metadata": {
            "tags": []
          },
          "execution_count": 30
        }
      ]
    },
    {
      "cell_type": "code",
      "metadata": {
        "id": "a1xt175ZDAWs",
        "colab_type": "code",
        "outputId": "88db57d9-b0da-4fb5-ddda-2a86c751f082",
        "colab": {
          "base_uri": "https://localhost:8080/",
          "height": 34
        }
      },
      "source": [
        "# largest of three numbers\n",
        "# input:1 2 3\n",
        "# output:3\n",
        "def largestofthreenumbers(n):\n",
        "  prev=0\n",
        "  next=0\n",
        "  while(n!=0):\n",
        "    prev=next\n",
        "    next=n%10\n",
        "    if(prev>next):\n",
        "      next=prev\n",
        "    n=n//10\n",
        "  return next\n",
        "largestofthreenumbers(123)\n",
        "\n",
        "  "
      ],
      "execution_count": 0,
      "outputs": [
        {
          "output_type": "execute_result",
          "data": {
            "text/plain": [
              "3"
            ]
          },
          "metadata": {
            "tags": []
          },
          "execution_count": 33
        }
      ]
    },
    {
      "cell_type": "markdown",
      "metadata": {
        "id": "oUi41-0qI-uk",
        "colab_type": "text"
      },
      "source": [
        "# for loop\n",
        "# syntax\n",
        "# for in range(start,stop,step):\n",
        "# statements"
      ]
    },
    {
      "cell_type": "code",
      "metadata": {
        "id": "MaKtOzCpJXHK",
        "colab_type": "code",
        "colab": {}
      },
      "source": [
        "# syntax\n",
        "for in range(start,stop,step):\n",
        "  statements"
      ],
      "execution_count": 0,
      "outputs": []
    },
    {
      "cell_type": "code",
      "metadata": {
        "id": "S8-46uK1JrIh",
        "colab_type": "code",
        "outputId": "cd3dc811-215c-4cf9-e82f-588c660b3c1a",
        "colab": {
          "base_uri": "https://localhost:8080/",
          "height": 34
        }
      },
      "source": [
        "# using function print the numbers between limits\n",
        "# input : 11 25\n",
        "# output : 11 12 13 .....24 25\n",
        "def printseries(fn,ln):\n",
        "  for i in range(fn,ln+1):\n",
        "   print(i,end = \"  \")\n",
        "  return\n",
        "printseries(11,25)"
      ],
      "execution_count": 0,
      "outputs": [
        {
          "output_type": "stream",
          "text": [
            "11  12  13  14  15  16  17  18  19  20  21  22  23  24  25  "
          ],
          "name": "stdout"
        }
      ]
    },
    {
      "cell_type": "code",
      "metadata": {
        "id": "ouOtgmOPLxCd",
        "colab_type": "code",
        "outputId": "383bddd5-a54f-41a9-a134-8ebacb555b7c",
        "colab": {
          "base_uri": "https://localhost:8080/",
          "height": 34
        }
      },
      "source": [
        "# input:500,520\n",
        "# output:500,504,508......520\n",
        "def printseries(fn,ln):\n",
        "  for i in range(fn,ln+1,4):\n",
        "    print(i,end = \"  \")\n",
        "  return\n",
        "printseries(500,520)\n"
      ],
      "execution_count": 0,
      "outputs": [
        {
          "output_type": "stream",
          "text": [
            "500  504  508  512  516  520  "
          ],
          "name": "stdout"
        }
      ]
    },
    {
      "cell_type": "markdown",
      "metadata": {
        "id": "sA0ruqW2NUd7",
        "colab_type": "text"
      },
      "source": [
        "# Collection types\n",
        "- List\n",
        "- Tuple\n",
        "- Dictionary"
      ]
    },
    {
      "cell_type": "markdown",
      "metadata": {
        "id": "bq828ED5N-C7",
        "colab_type": "text"
      },
      "source": [
        "# List:\n",
        "- One of the data structure in python\n",
        "- Data structure means to store,sort and search options\n",
        "- Its one common data structure in python,the items of list separated by comma and enclosed by square brackets\n",
        "- In list we can change values\n",
        "- ex:\n",
        "- list 1 = [1,2,3,4,5]\n",
        "- list=[\"JNTUA\",\"DASD\",\"ASDS\"] "
      ]
    },
    {
      "cell_type": "code",
      "metadata": {
        "id": "XLJ-LBA7PWw3",
        "colab_type": "code",
        "outputId": "45b20bbf-7f23-41b3-9f1d-ab2bc532ce6a",
        "colab": {
          "base_uri": "https://localhost:8080/",
          "height": 136
        }
      },
      "source": [
        "li = [1,8,2,5,4]\n",
        "print(li)\n",
        "print(li[2])\n",
        "print(li[-3])\n",
        "print(li[2:])\n",
        "print(li[2:4])\n",
        "print(li[-3:-1])\n",
        "print(li[::2])"
      ],
      "execution_count": 0,
      "outputs": [
        {
          "output_type": "stream",
          "text": [
            "[1, 8, 2, 5, 4]\n",
            "2\n",
            "2\n",
            "[2, 5, 4]\n",
            "[2, 5]\n",
            "[2, 5]\n",
            "[1, 2, 4]\n"
          ],
          "name": "stdout"
        }
      ]
    },
    {
      "cell_type": "code",
      "metadata": {
        "id": "ptP1HFxXPhsY",
        "colab_type": "code",
        "outputId": "ec4fd184-3514-48d2-bc1a-f22ac2699611",
        "colab": {
          "base_uri": "https://localhost:8080/",
          "height": 68
        }
      },
      "source": [
        "# updte list\n",
        "li = [\"jntua\",8,\"atp\",5,4]\n",
        "print(li)\n",
        "li[1]=\"143\"\n",
        "print(li)\n",
        "# delete list item\n",
        "del li[1]\n",
        "print(li) \n"
      ],
      "execution_count": 0,
      "outputs": [
        {
          "output_type": "stream",
          "text": [
            "['jntua', 8, 'atp', 5, 4]\n",
            "['jntua', '143', 'atp', 5, 4]\n",
            "['jntua', 'atp', 5, 4]\n"
          ],
          "name": "stdout"
        }
      ]
    },
    {
      "cell_type": "code",
      "metadata": {
        "id": "L1GZgpZZcmqE",
        "colab_type": "code",
        "outputId": "9ad11aa5-047f-4e45-984d-a43e41ff2a8c",
        "colab": {
          "base_uri": "https://localhost:8080/",
          "height": 85
        }
      },
      "source": [
        "# Basic list operations\n",
        "li = [1,2,3,4,5]\n",
        "print(len(li))\n",
        "print(li*3)\n",
        "print(4 in li)\n",
        "print(9 in li)"
      ],
      "execution_count": 0,
      "outputs": [
        {
          "output_type": "stream",
          "text": [
            "5\n",
            "[1, 2, 3, 4, 5, 1, 2, 3, 4, 5, 1, 2, 3, 4, 5]\n",
            "True\n",
            "False\n"
          ],
          "name": "stdout"
        }
      ]
    },
    {
      "cell_type": "markdown",
      "metadata": {
        "id": "P8QYAbnFeivM",
        "colab_type": "text"
      },
      "source": [
        "# list functions\n",
        "- max\n",
        "- min\n",
        "- sum\n",
        "- append\n",
        "- insert\n",
        "- count\n",
        "- index\n",
        "- sort\n",
        "- pop"
      ]
    },
    {
      "cell_type": "code",
      "metadata": {
        "id": "OiLa1ZRFez9D",
        "colab_type": "code",
        "outputId": "7dbecfd2-1a26-4ce0-c8b2-4edfadbaef5a",
        "colab": {
          "base_uri": "https://localhost:8080/",
          "height": 197
        }
      },
      "source": [
        "li = [1,2,3,4]\n",
        "#print(max(li))\n",
        "#print(min(li))\n",
        "print(sum(li)/len(li))"
      ],
      "execution_count": 0,
      "outputs": [
        {
          "output_type": "error",
          "ename": "TypeError",
          "evalue": "ignored",
          "traceback": [
            "\u001b[0;31m---------------------------------------------------------------------------\u001b[0m",
            "\u001b[0;31mTypeError\u001b[0m                                 Traceback (most recent call last)",
            "\u001b[0;32m<ipython-input-63-de8d357f6c70>\u001b[0m in \u001b[0;36m<module>\u001b[0;34m()\u001b[0m\n\u001b[1;32m      2\u001b[0m \u001b[0;31m#print(max(li))\u001b[0m\u001b[0;34m\u001b[0m\u001b[0;34m\u001b[0m\u001b[0;34m\u001b[0m\u001b[0m\n\u001b[1;32m      3\u001b[0m \u001b[0;31m#print(min(li))\u001b[0m\u001b[0;34m\u001b[0m\u001b[0;34m\u001b[0m\u001b[0;34m\u001b[0m\u001b[0m\n\u001b[0;32m----> 4\u001b[0;31m \u001b[0mprint\u001b[0m\u001b[0;34m(\u001b[0m\u001b[0msum\u001b[0m\u001b[0;34m(\u001b[0m\u001b[0mli\u001b[0m\u001b[0;34m)\u001b[0m\u001b[0;34m/\u001b[0m\u001b[0mlen\u001b[0m\u001b[0;34m(\u001b[0m\u001b[0mli\u001b[0m\u001b[0;34m)\u001b[0m\u001b[0;34m)\u001b[0m\u001b[0;34m\u001b[0m\u001b[0;34m\u001b[0m\u001b[0m\n\u001b[0m",
            "\u001b[0;31mTypeError\u001b[0m: 'int' object is not callable"
          ]
        }
      ]
    },
    {
      "cell_type": "code",
      "metadata": {
        "id": "DVRgPjnKfDeV",
        "colab_type": "code",
        "outputId": "beb3f1a5-1f23-46e2-c759-4be7db7f8c63",
        "colab": {
          "base_uri": "https://localhost:8080/",
          "height": 34
        }
      },
      "source": [
        "li = [6,7,6,5]\n",
        "#li.append(54)\n",
        "#li.insert(2,56)\n",
        "#li.count(5)\n",
        "#li.index(3)\n",
        "#li.sort()\n",
        "li.pop()\n",
        "print(li)"
      ],
      "execution_count": 0,
      "outputs": [
        {
          "output_type": "stream",
          "text": [
            "[6, 7, 6]\n"
          ],
          "name": "stdout"
        }
      ]
    },
    {
      "cell_type": "code",
      "metadata": {
        "id": "VSusvhN0hVfp",
        "colab_type": "code",
        "outputId": "62f883b5-ce52-4319-a2de-897d7849b045",
        "colab": {
          "base_uri": "https://localhost:8080/",
          "height": 51
        }
      },
      "source": [
        "# using function return large number from list\n",
        "def largenumber(li):\n",
        "  li.sort()\n",
        "  return li[-1]\n",
        "def genericlarge(li,n):\n",
        "  li.sort()\n",
        "  return li[-n]\n",
        "li = [43,45,87,32,12]\n",
        "print(largenumber(li))\n",
        "print(genericlarge(li,3))"
      ],
      "execution_count": 0,
      "outputs": [
        {
          "output_type": "stream",
          "text": [
            "87\n",
            "43\n"
          ],
          "name": "stdout"
        }
      ]
    },
    {
      "cell_type": "code",
      "metadata": {
        "id": "WLEguhlnmLNb",
        "colab_type": "code",
        "outputId": "6c9d6616-e7ea-443c-df9e-3b1e62358968",
        "colab": {
          "base_uri": "https://localhost:8080/",
          "height": 51
        }
      },
      "source": [
        "def smallnumber(li):\n",
        "  li.sort()\n",
        "  return li[-5]\n",
        "def genericsmall(li,n):\n",
        "  li.sort()\n",
        "  return li[n-1]\n",
        "li = [31,32,33,34,35]\n",
        "print(smallnumber(li))\n",
        "print(genericsmall(li,2))"
      ],
      "execution_count": 0,
      "outputs": [
        {
          "output_type": "stream",
          "text": [
            "31\n",
            "32\n"
          ],
          "name": "stdout"
        }
      ]
    }
  ]
}